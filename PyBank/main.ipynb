{
 "cells": [
  {
   "cell_type": "code",
   "execution_count": 1,
   "id": "southern-convergence",
   "metadata": {},
   "outputs": [],
   "source": [
    "#Import Libraries\n",
    "from pathlib import Path\n",
    "import csv"
   ]
  },
  {
   "cell_type": "code",
   "execution_count": 2,
   "id": "capital-programmer",
   "metadata": {},
   "outputs": [],
   "source": [
    "# Set the file path\n",
    "csvpath = Path('C:/Users/admin/Downloads/nu-chi-fin-pt-01-2021-u-c-master-02-Python/nu-chi-fin-pt-01-2021-u-c-master-02-Python/02-Python/HW-02-Python/Instructions/PyBank/Resources/budget_data.csv')"
   ]
  },
  {
   "cell_type": "code",
   "execution_count": 3,
   "id": "distant-equilibrium",
   "metadata": {},
   "outputs": [],
   "source": [
    "# Initialize variable to hold salaries and line_num variable\n",
    "dates = []\n",
    "pnls = []\n",
    "line_num = 0"
   ]
  },
  {
   "cell_type": "code",
   "execution_count": 4,
   "id": "attached-ratio",
   "metadata": {},
   "outputs": [
    {
     "name": "stdout",
     "output_type": "stream",
     "text": [
      "<class '_io.TextIOWrapper'>\n",
      "<class '_csv.reader'>\n",
      "['Date', 'Profit/Losses'] <---- HEADER\n",
      "['Jan-2010', '867884']\n",
      "['Feb-2010', '984655']\n",
      "['Mar-2010', '322013']\n",
      "['Apr-2010', '-69417']\n",
      "['May-2010', '310503']\n",
      "['Jun-2010', '522857']\n",
      "['Jul-2010', '1033096']\n",
      "['Aug-2010', '604885']\n",
      "['Sep-2010', '-216386']\n",
      "['Oct-2010', '477532']\n",
      "['Nov-2010', '893810']\n",
      "['Dec-2010', '-80353']\n",
      "['Jan-2011', '779806']\n",
      "['Feb-2011', '-335203']\n",
      "['Mar-2011', '697845']\n",
      "['Apr-2011', '793163']\n",
      "['May-2011', '485070']\n",
      "['Jun-2011', '584122']\n",
      "['Jul-2011', '62729']\n",
      "['Aug-2011', '668179']\n",
      "['Sep-2011', '899906']\n",
      "['Oct-2011', '834719']\n",
      "['Nov-2011', '132003']\n",
      "['Dec-2011', '309978']\n",
      "['Jan-2012', '-755566']\n",
      "['Feb-2012', '1170593']\n",
      "['Mar-2012', '252788']\n",
      "['Apr-2012', '1151518']\n",
      "['May-2012', '817256']\n",
      "['Jun-2012', '570757']\n",
      "['Jul-2012', '506702']\n",
      "['Aug-2012', '-1022534']\n",
      "['Sep-2012', '475062']\n",
      "['Oct-2012', '779976']\n",
      "['Nov-2012', '144175']\n",
      "['Dec-2012', '542494']\n",
      "['Jan-2013', '359333']\n",
      "['Feb-2013', '321469']\n",
      "['Mar-2013', '67780']\n",
      "['Apr-2013', '471435']\n",
      "['May-2013', '565603']\n",
      "['Jun-2013', '872480']\n",
      "['Jul-2013', '789480']\n",
      "['Aug-2013', '999942']\n",
      "['Sep-2013', '-1196225']\n",
      "['Oct-2013', '268997']\n",
      "['Nov-2013', '-687986']\n",
      "['Dec-2013', '1150461']\n",
      "['Jan-2014', '682458']\n",
      "['Feb-2014', '617856']\n",
      "['Mar-2014', '824098']\n",
      "['Apr-2014', '581943']\n",
      "['May-2014', '132864']\n",
      "['Jun-2014', '448062']\n",
      "['Jul-2014', '689161']\n",
      "['Aug-2014', '800701']\n",
      "['Sep-2014', '1166643']\n",
      "['Oct-2014', '947333']\n",
      "['Nov-2014', '578668']\n",
      "['Dec-2014', '988505']\n",
      "['Jan-2015', '1139715']\n",
      "['Feb-2015', '1029471']\n",
      "['Mar-2015', '687533']\n",
      "['Apr-2015', '-524626']\n",
      "['May-2015', '158620']\n",
      "['Jun-2015', '87795']\n",
      "['Jul-2015', '423389']\n",
      "['Aug-2015', '840723']\n",
      "['Sep-2015', '568529']\n",
      "['Oct-2015', '332067']\n",
      "['Nov-2015', '989499']\n",
      "['Dec-2015', '778237']\n",
      "['Jan-2016', '650000']\n",
      "['Feb-2016', '-1100387']\n",
      "['Mar-2016', '-174946']\n",
      "['Apr-2016', '757143']\n",
      "['May-2016', '445709']\n",
      "['Jun-2016', '712961']\n",
      "['Jul-2016', '-1163797']\n",
      "['Aug-2016', '569899']\n",
      "['Sep-2016', '768450']\n",
      "['Oct-2016', '102685']\n",
      "['Nov-2016', '795914']\n",
      "['Dec-2016', '60988']\n",
      "['Jan-2017', '138230']\n",
      "['Feb-2017', '671099']\n"
     ]
    }
   ],
   "source": [
    "# Open csv and set as read only\n",
    "with open(csvpath, \"r\") as csvfile: \n",
    "    print(type(csvfile))\n",
    "    # Pass in the csv file to the csv.reader() function\n",
    "    # (with ',' as the delmiter/separator) and return the csvreader object\n",
    "    csvreader = csv.reader(csvfile, delimiter=',')  \n",
    "        # Print the datatype of the csvreader\n",
    "    print(type(csvreader))\n",
    "     # Go to the next row from the start of the file\n",
    "    # (which is often the first row/header) and iterate line_num by 1\n",
    "    header = next(csvreader)\n",
    "    line_num += 1\n",
    "    # Print the header\n",
    "    print(f\"{header} <---- HEADER\")\n",
    "\n",
    "    # Read each row of data after the header\n",
    "    for row in csvreader:\n",
    "        # Print the row\n",
    "        print(row)\n",
    "        # Set date variavble equal to the value in the 1st column of each row\n",
    "        # Set pnl variable equal to the value in the 2nd column of each row\n",
    "        # Add pnl variables to pnl list\n",
    "        # Add date variables to dates list\n",
    "        pnl = int(row[1])\n",
    "        pnls.append(pnl)\n",
    "        date = str(row[0])\n",
    "        dates.append(date)"
   ]
  },
  {
   "cell_type": "code",
   "execution_count": 5,
   "id": "novel-heath",
   "metadata": {},
   "outputs": [
    {
     "name": "stdout",
     "output_type": "stream",
     "text": [
      "There are 86 months in the dataset.\n",
      "The net total amount of Profit and Losses was $38382578.\n"
     ]
    }
   ],
   "source": [
    "## The total number of months included in the dataset.\n",
    "total_months = len(pnls)\n",
    "print(f\"There are {total_months} months in the dataset.\")\n",
    "## The net total amount of Profit/Losses over the entire period.\n",
    "total_pnl = sum(pnls)\n",
    "print(f\"The net total amount of Profit and Losses was ${total_pnl}.\")"
   ]
  },
  {
   "cell_type": "code",
   "execution_count": 6,
   "id": "different-waterproof",
   "metadata": {},
   "outputs": [],
   "source": [
    "# Make a list for profit and losses changes.\n",
    "pnl_change_list = []\n",
    "for i in range(1, len(pnls)):\n",
    "    pnl_change = pnls[i] - pnls[i-1]\n",
    "    pnl_change_list.append(pnl_change)\n"
   ]
  },
  {
   "cell_type": "code",
   "execution_count": 7,
   "id": "scientific-quilt",
   "metadata": {},
   "outputs": [
    {
     "name": "stdout",
     "output_type": "stream",
     "text": [
      "[116771, -662642, -391430, 379920, 212354, 510239, -428211, -821271, 693918, 416278, -974163, 860159, -1115009, 1033048, 95318, -308093, 99052, -521393, 605450, 231727, -65187, -702716, 177975, -1065544, 1926159, -917805, 898730, -334262, -246499, -64055, -1529236, 1497596, 304914, -635801, 398319, -183161, -37864, -253689, 403655, 94168, 306877, -83000, 210462, -2196167, 1465222, -956983, 1838447, -468003, -64602, 206242, -242155, -449079, 315198, 241099, 111540, 365942, -219310, -368665, 409837, 151210, -110244, -341938, -1212159, 683246, -70825, 335594, 417334, -272194, -236462, 657432, -211262, -128237, -1750387, 925441, 932089, -311434, 267252, -1876758, 1733696, 198551, -665765, 693229, -734926, 77242, 532869]\n"
     ]
    }
   ],
   "source": [
    "# check pnl_change_list crested, code can be deleted.\n",
    "print(pnl_change_list)"
   ]
  },
  {
   "cell_type": "code",
   "execution_count": 8,
   "id": "awful-slovenia",
   "metadata": {},
   "outputs": [
    {
     "name": "stdout",
     "output_type": "stream",
     "text": [
      "The average of the changes in Profit/Losses over the entire period was $-2315.12.\n"
     ]
    }
   ],
   "source": [
    "## The average of the changes in Profit/Losses over the entire period.\n",
    "avg_pnl_change = round(sum(pnl_change_list) / len(pnl_change_list),2)\n",
    "print(f\"The average of the changes in Profit/Losses over the entire period was ${avg_pnl_change}.\")"
   ]
  },
  {
   "cell_type": "code",
   "execution_count": 9,
   "id": "behind-sentence",
   "metadata": {},
   "outputs": [
    {
     "name": "stdout",
     "output_type": "stream",
     "text": [
      "The greatest increase in profits was $1926159 in Feb-2012.\n"
     ]
    }
   ],
   "source": [
    "## The greatest increase in profits (date and amount) over the entire period.\n",
    "greatest_increase = max(pnl_change_list)\n",
    "greatest_increse_month = dates[pnl_change_list.index(max(pnl_change_list)) +1]\n",
    "print(f\"The greatest increase in profits was ${greatest_increase} in {greatest_increse_month}.\")"
   ]
  },
  {
   "cell_type": "code",
   "execution_count": 10,
   "id": "elder-cardiff",
   "metadata": {},
   "outputs": [
    {
     "name": "stdout",
     "output_type": "stream",
     "text": [
      "The greatest decrease in profits was $-2196167 in Sep-2013.\n"
     ]
    }
   ],
   "source": [
    "# The greatest decrease in losses (date and amount) over the entire period.\n",
    "greatest_decrease = min(pnl_change_list)\n",
    "greatest_decrease_month = dates[pnl_change_list.index(min(pnl_change_list)) +1]\n",
    "print(f\"The greatest decrease in profits was ${greatest_decrease} in {greatest_decrease_month}.\")"
   ]
  },
  {
   "cell_type": "code",
   "execution_count": 11,
   "id": "labeled-disclosure",
   "metadata": {},
   "outputs": [],
   "source": [
    "# Set output file name\n",
    "output_path = \"Homework.txt\""
   ]
  },
  {
   "cell_type": "code",
   "execution_count": 12,
   "id": "turned-dakota",
   "metadata": {},
   "outputs": [],
   "source": [
    "# Open the output path as a file object\n",
    "with open(output_path, 'w') as file:\n",
    "    # Write hearder\n",
    "    file.write(\"Financial Analysis\\n\")\n",
    "    file.write(\"____________________\\n\")\n",
    "    # Write answerts to the output file, convert to string\n",
    "    file.write(f\"There are {total_months} months in the dataset.\\n\")\n",
    "    file.write(f\"The net total amount of Profit and Losses was ${total_pnl}.\\n\")\n",
    "    file.write(f\"The average of the changes in Profit/Losses over the entire period was ${avg_pnl_change}.\\n\")\n",
    "    file.write(f\"The greatest increase in profits was ${greatest_increase} in {greatest_increse_month}.\\n\")\n",
    "    file.write(f\"The greatest decrease in profits was ${greatest_decrease} in {greatest_decrease_month}.\\n\")"
   ]
  },
  {
   "cell_type": "code",
   "execution_count": 13,
   "id": "received-security",
   "metadata": {},
   "outputs": [
    {
     "name": "stdout",
     "output_type": "stream",
     "text": [
      "Financial Analysis\n",
      "\n",
      "____________________\n",
      "\n",
      "There are 86 months in the dataset.\n",
      "\n",
      "The net total amount of Profit and Losses was $38382578.\n",
      "\n",
      "The average of the changes in Profit/Losses over the entire period was $-2315.12.\n",
      "\n",
      "The greatest increase in profits was $1926159 in Feb-2012.\n",
      "\n",
      "The greatest decrease in profits was $-2196167 in Sep-2013.\n",
      "\n"
     ]
    }
   ],
   "source": [
    "# check the output results, code can be deleted\n",
    "with open(output_path, \"r\") as check_file:\n",
    "    for rows in check_file:\n",
    "        print(rows)"
   ]
  }
 ],
 "metadata": {
  "kernelspec": {
   "display_name": "Python 3",
   "language": "python",
   "name": "python3"
  },
  "language_info": {
   "codemirror_mode": {
    "name": "ipython",
    "version": 3
   },
   "file_extension": ".py",
   "mimetype": "text/x-python",
   "name": "python",
   "nbconvert_exporter": "python",
   "pygments_lexer": "ipython3",
   "version": "3.8.5"
  }
 },
 "nbformat": 4,
 "nbformat_minor": 5
}
